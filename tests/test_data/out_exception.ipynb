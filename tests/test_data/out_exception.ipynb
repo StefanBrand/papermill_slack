{
 "cells": [
  {
   "cell_type": "markdown",
   "id": "d936c5ac",
   "metadata": {
    "tags": [
     "papermill-error-cell-tag"
    ]
   },
   "source": [
    "<span style=\"color:red; font-family:Helvetica Neue, Helvetica, Arial, sans-serif; font-size:2em;\">An Exception was encountered at '<a href=\"#papermill-error-cell\">In [1]</a>'.</span>"
   ]
  },
  {
   "cell_type": "markdown",
   "id": "78a0b929",
   "metadata": {
    "tags": [
     "papermill-error-cell-tag"
    ]
   },
   "source": [
    "<span id=\"papermill-error-cell\" style=\"color:red; font-family:Helvetica Neue, Helvetica, Arial, sans-serif; font-size:2em;\">Execution using papermill encountered an exception here and stopped:</span>"
   ]
  },
  {
   "cell_type": "code",
   "execution_count": 2,
   "id": "266856dd",
   "metadata": {
    "execution": {
     "iopub.execute_input": "2022-09-30T13:29:44.089076Z",
     "iopub.status.busy": "2022-09-30T13:29:44.088503Z",
     "iopub.status.idle": "2022-09-30T13:29:44.546806Z",
     "shell.execute_reply": "2022-09-30T13:29:44.546128Z"
    },
    "papermill": {
     "duration": 0.462966,
     "end_time": "2022-09-30T13:29:44.547868",
     "exception": true,
     "start_time": "2022-09-30T13:29:44.084902",
     "status": "failed"
    },
    "tags": []
   },
   "outputs": [
    {
     "ename": "Exception",
     "evalue": "my exception",
     "output_type": "error",
     "traceback": [
      "\u001b[0;31m---------------------------------------------------------------------------\u001b[0m",
      "\u001b[0;31mException\u001b[0m                                 Traceback (most recent call last)",
      "Cell \u001b[0;32mIn [2], line 1\u001b[0m\n\u001b[0;32m----> 1\u001b[0m \u001b[38;5;28;01mraise\u001b[39;00m \u001b[38;5;167;01mException\u001b[39;00m(\u001b[38;5;124m\"\u001b[39m\u001b[38;5;124mmy exception\u001b[39m\u001b[38;5;124m\"\u001b[39m)\n",
      "\u001b[0;31mException\u001b[0m: my exception"
     ]
    }
   ],
   "source": [
    "raise Exception(\"my exception\")"
   ]
  },
  {
   "cell_type": "code",
   "execution_count": null,
   "id": "b2d133ca",
   "metadata": {},
   "outputs": [],
   "source": []
  }
 ],
 "metadata": {
  "kernelspec": {
   "display_name": "Python 3.10.7 64-bit",
   "language": "python",
   "name": "python3"
  },
  "language_info": {
   "codemirror_mode": {
    "name": "ipython",
    "version": 3
   },
   "file_extension": ".py",
   "mimetype": "text/x-python",
   "name": "python",
   "nbconvert_exporter": "python",
   "pygments_lexer": "ipython3",
   "version": "3.10.7"
  },
  "papermill": {
   "default_parameters": {},
   "duration": 2.188352,
   "end_time": "2022-09-30T13:29:44.874789",
   "environment_variables": {},
   "exception": true,
   "input_path": "/workspaces/papermill_slack/tests/test_data/exception.ipynb",
   "output_path": "out_exception.ipynb",
   "parameters": {},
   "start_time": "2022-09-30T13:29:42.686437",
   "version": "2.4.0"
  },
  "vscode": {
   "interpreter": {
    "hash": "949777d72b0d2535278d3dc13498b2535136f6dfe0678499012e853ee9abcab1"
   }
  }
 },
 "nbformat": 4,
 "nbformat_minor": 5
}
