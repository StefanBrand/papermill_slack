{
 "cells": [
  {
   "cell_type": "code",
   "execution_count": 1,
   "id": "f6ae9bc0",
   "metadata": {
    "execution": {
     "iopub.execute_input": "2022-09-30T13:58:58.811825Z",
     "iopub.status.busy": "2022-09-30T13:58:58.811011Z",
     "iopub.status.idle": "2022-09-30T13:58:58.832185Z",
     "shell.execute_reply": "2022-09-30T13:58:58.829717Z"
    },
    "papermill": {
     "duration": 0.033017,
     "end_time": "2022-09-30T13:58:58.836813",
     "exception": false,
     "start_time": "2022-09-30T13:58:58.803796",
     "status": "completed"
    },
    "tags": [
     "parameters"
    ]
   },
   "outputs": [],
   "source": [
    "a = 1\n",
    "b = 2"
   ]
  },
  {
   "cell_type": "code",
   "execution_count": 2,
   "id": "8c542e11",
   "metadata": {
    "execution": {
     "iopub.execute_input": "2022-09-30T13:58:58.847854Z",
     "iopub.status.busy": "2022-09-30T13:58:58.847240Z",
     "iopub.status.idle": "2022-09-30T13:58:58.853467Z",
     "shell.execute_reply": "2022-09-30T13:58:58.852235Z"
    },
    "papermill": {
     "duration": 0.014914,
     "end_time": "2022-09-30T13:58:58.856450",
     "exception": false,
     "start_time": "2022-09-30T13:58:58.841536",
     "status": "completed"
    },
    "tags": [
     "injected-parameters"
    ]
   },
   "outputs": [],
   "source": [
    "# Parameters\n",
    "a = 3\n",
    "b = 4\n"
   ]
  }
 ],
 "metadata": {
  "kernelspec": {
   "display_name": "Python 3.10.7 64-bit",
   "language": "python",
   "name": "python3"
  },
  "language_info": {
   "codemirror_mode": {
    "name": "ipython",
    "version": 3
   },
   "file_extension": ".py",
   "mimetype": "text/x-python",
   "name": "python",
   "nbconvert_exporter": "python",
   "pygments_lexer": "ipython3",
   "version": "3.10.7"
  },
  "papermill": {
   "default_parameters": {},
   "duration": 1.600468,
   "end_time": "2022-09-30T13:58:59.076096",
   "environment_variables": {},
   "exception": null,
   "input_path": "tests/test_data/parametrized.ipynb",
   "output_path": "out_parametrized.ipynb",
   "parameters": {
    "a": 3,
    "b": 4
   },
   "start_time": "2022-09-30T13:58:57.475628",
   "version": "2.4.0"
  },
  "vscode": {
   "interpreter": {
    "hash": "949777d72b0d2535278d3dc13498b2535136f6dfe0678499012e853ee9abcab1"
   }
  }
 },
 "nbformat": 4,
 "nbformat_minor": 5
}